{
 "cells": [
  {
   "cell_type": "code",
   "execution_count": 4,
   "id": "5654f8e9-cba3-410b-b3eb-849a8869a293",
   "metadata": {},
   "outputs": [
    {
     "name": "stdout",
     "output_type": "stream",
     "text": [
      "step              0\n",
      "type              0\n",
      "amount            0\n",
      "nameOrig          0\n",
      "oldbalanceOrg     0\n",
      "newbalanceOrig    0\n",
      "nameDest          0\n",
      "oldbalanceDest    0\n",
      "newbalanceDest    0\n",
      "isFraud           0\n",
      "isFlaggedFraud    0\n",
      "dtype: int64\n",
      "count    6.362620e+06\n",
      "mean     1.798619e+05\n",
      "std      6.038582e+05\n",
      "min      0.000000e+00\n",
      "25%      1.338957e+04\n",
      "50%      7.487194e+04\n",
      "75%      2.087215e+05\n",
      "max      9.244552e+07\n",
      "Name: amount, dtype: float64\n"
     ]
    }
   ],
   "source": [
    "import pandas as pd\n",
    "\n",
    "# Load the transaction data dataset\n",
    "transaction_data = pd.read_csv('data.csv')\n",
    "\n",
    "# Check for missing values\n",
    "missing_values = transaction_data.isnull().sum()\n",
    "\n",
    "# Print the number of missing values in each column\n",
    "print(missing_values)\n",
    "\n",
    "# Display basic statistics for the amount column\n",
    "print(transaction_data['amount'].describe())\n"
   ]
  },
  {
   "cell_type": "code",
   "execution_count": null,
   "id": "1260d029-01c0-4b61-a662-0f49c696847c",
   "metadata": {},
   "outputs": [],
   "source": []
  }
 ],
 "metadata": {
  "kernelspec": {
   "display_name": "Python 3 (ipykernel)",
   "language": "python",
   "name": "python3"
  },
  "language_info": {
   "codemirror_mode": {
    "name": "ipython",
    "version": 3
   },
   "file_extension": ".py",
   "mimetype": "text/x-python",
   "name": "python",
   "nbconvert_exporter": "python",
   "pygments_lexer": "ipython3",
   "version": "3.10.12"
  }
 },
 "nbformat": 4,
 "nbformat_minor": 5
}
